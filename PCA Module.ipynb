{
 "cells": [
  {
   "cell_type": "code",
   "execution_count": 1,
   "metadata": {
    "collapsed": true
   },
   "outputs": [],
   "source": [
    "#Import numpy for Matrix Calculations.\n",
    "import numpy as np\n",
    "\n",
    "#For Linear Algebra\n",
    "from numpy import linalg as LA\n",
    "\n",
    "#Import pyplot to generate 2-D plots.\n",
    "from matplotlib import pyplot as plt"
   ]
  },
  {
   "cell_type": "code",
   "execution_count": 2,
   "metadata": {},
   "outputs": [
    {
     "name": "stdout",
     "output_type": "stream",
     "text": [
      "Size is 3000\n",
      "Shape is (1000, 3)\n"
     ]
    }
   ],
   "source": [
    "#loading the dataset\n",
    "data = np.genfromtxt('dataset_1.csv', delimiter=',', skip_header = 1)\n",
    "\n",
    "#Supress \n",
    "np.set_printoptions(suppress=True)\n",
    "\n",
    "#Data Shape and size.\n",
    "print(\"Size is \" + str(data.size)) \n",
    "print(\"Shape is \" + str(data.shape))"
   ]
  },
  {
   "cell_type": "code",
   "execution_count": 3,
   "metadata": {},
   "outputs": [
    {
     "name": "stdout",
     "output_type": "stream",
     "text": [
      "Mean is [ 0.503454  2.511309  0.509261]\n"
     ]
    }
   ],
   "source": [
    "#Data Mean\n",
    "data_mean = np.mean(data, axis=0)\n",
    "print(\"Mean is \" + str(data_mean))"
   ]
  },
  {
   "cell_type": "code",
   "execution_count": 4,
   "metadata": {},
   "outputs": [
    {
     "name": "stdout",
     "output_type": "stream",
     "text": [
      "Standard Deviation is [ 0.28377686  1.44806857  0.28372866]\n"
     ]
    }
   ],
   "source": [
    "#Standard deviation\n",
    "data_std = np.std(data, axis =0)\n",
    "print(\"Standard Deviation is \" + str(data_std))"
   ]
  },
  {
   "cell_type": "code",
   "execution_count": 5,
   "metadata": {},
   "outputs": [
    {
     "name": "stdout",
     "output_type": "stream",
     "text": [
      "Data Maximum is [ 0.998  5.788  0.997]\n"
     ]
    }
   ],
   "source": [
    "#Data Maximum\n",
    "data_max = np.max(data, axis=0)\n",
    "print(\"Data Maximum is \" + str(data_max))"
   ]
  },
  {
   "cell_type": "code",
   "execution_count": 6,
   "metadata": {},
   "outputs": [
    {
     "name": "stdout",
     "output_type": "stream",
     "text": [
      "Data Minimum is [ 0.    -0.453  0.   ]\n"
     ]
    }
   ],
   "source": [
    "#Data Minimum\n",
    "data_min = np.min(data, axis=0)\n",
    "print(\"Data Minimum is \" + str(data_min))"
   ]
  },
  {
   "cell_type": "code",
   "execution_count": 7,
   "metadata": {},
   "outputs": [
    {
     "name": "stdout",
     "output_type": "stream",
     "text": [
      "Variance of x is: 0.080529305884\n",
      "Variance of y is: 2.09690259152\n",
      "Variance of z is: 0.080501954879\n"
     ]
    }
   ],
   "source": [
    "# Calculating variance of every varaible\n",
    "x = data[:,0]\n",
    "y = data[:,1]\n",
    "z = data[:,2]\n",
    "\n",
    "print(\"Variance of x is: \" + str(np.var(x)))\n",
    "print(\"Variance of y is: \" + str(np.var(y)))\n",
    "print(\"Variance of z is: \" + str(np.var(z)))"
   ]
  },
  {
   "cell_type": "code",
   "execution_count": 8,
   "metadata": {},
   "outputs": [
    {
     "name": "stdout",
     "output_type": "stream",
     "text": [
      "Covariance of x,y: \n",
      "[[ 0.08060992  0.40242878]\n",
      " [ 0.40242878  2.09900159]]\n",
      "Covariance of y,z: \n",
      "[[ 2.09900159 -0.01439466]\n",
      " [-0.01439466  0.08058254]]\n",
      "Covariance of x,z: \n",
      "[[ 0.08060992 -0.0025104 ]\n",
      " [-0.0025104   0.08058254]]\n"
     ]
    }
   ],
   "source": [
    "# Covariances\n",
    "\n",
    "X = np.vstack((x,y))\n",
    "print(\"Covariance of x,y: \")\n",
    "print(str(np.cov(X)))\n",
    "\n",
    "\n",
    "Y = np.vstack((y,z))\n",
    "print(\"Covariance of y,z: \")\n",
    "print(str(np.cov(Y)))\n",
    "\n",
    "\n",
    "Z = np.vstack((x,z))\n",
    "print(\"Covariance of x,z: \")\n",
    "print(str(np.cov(Z)))"
   ]
  },
  {
   "cell_type": "code",
   "execution_count": 9,
   "metadata": {},
   "outputs": [
    {
     "data": {
      "text/plain": [
       "array([[-1.47811207, -1.17971554,  0.05194752],\n",
       "       [-0.67818779, -0.59894194,  0.08014347],\n",
       "       [ 0.16049934,  0.02879076, -1.57636875],\n",
       "       ..., \n",
       "       [ 0.41774372,  0.23941615,  1.20798158],\n",
       "       [-1.70364138, -1.95454073, -1.28736024],\n",
       "       [ 0.9040413 ,  1.03633973, -0.55074097]])"
      ]
     },
     "execution_count": 9,
     "metadata": {},
     "output_type": "execute_result"
    }
   ],
   "source": [
    "# Calculating Data Array for PCA\n",
    "data_PCA = (data - data_mean) / data_std\n",
    "data_PCA"
   ]
  },
  {
   "cell_type": "code",
   "execution_count": 10,
   "metadata": {},
   "outputs": [
    {
     "name": "stdout",
     "output_type": "stream",
     "text": [
      "Data transpose Size: 3000. Shape: (3, 1000)\n"
     ]
    }
   ],
   "source": [
    "#Getting transpose.\n",
    "data_PCA_transpose = data_PCA.transpose()\n",
    "\n",
    "#Getting size of transpose.\n",
    "print(\"Data transpose Size: \" + str(data_PCA_transpose.size) + \". Shape: \" + str(data_PCA_transpose.shape))"
   ]
  },
  {
   "cell_type": "markdown",
   "metadata": {},
   "source": [
    "### Principal Component Analysis\n",
    "\n",
    "Calculating the covariance matrix. "
   ]
  },
  {
   "cell_type": "code",
   "execution_count": 11,
   "metadata": {},
   "outputs": [
    {
     "name": "stdout",
     "output_type": "stream",
     "text": [
      "Covariance Matrix is: [[ 1.001001    0.97931616 -0.03117904]\n",
      " [ 0.97931616  1.001001   -0.03503555]\n",
      " [-0.03117904 -0.03503555  1.001001  ]]\n"
     ]
    }
   ],
   "source": [
    "cov_mat = np.matmul(data_PCA_transpose, data_PCA) / (data_PCA.shape[0] - 1)\n",
    "print(\"Covariance Matrix is: \" + str(cov_mat))"
   ]
  },
  {
   "cell_type": "markdown",
   "metadata": {},
   "source": [
    "Diagonalising the covariance matrix (cov_mat) to obtain eigenvalues and corresponding eigen vectors."
   ]
  },
  {
   "cell_type": "code",
   "execution_count": 12,
   "metadata": {},
   "outputs": [
    {
     "name": "stdout",
     "output_type": "stream",
     "text": [
      "Eigen Values are: [ 1.98255057  0.02167724  0.9987752 ]\n",
      "Eigen Vectors are: \n",
      "[[ 0.70625682  0.70705691  0.03566266]\n",
      " [ 0.70635053 -0.70715115  0.03172022]\n",
      " [-0.0476469  -0.00278772  0.99886035]]\n"
     ]
    }
   ],
   "source": [
    "lam, p = LA.eig(cov_mat)\n",
    "\n",
    "#Print values.\n",
    "print(\"Eigen Values are: \" + str(lam))\n",
    "print(\"Eigen Vectors are: \")\n",
    "print(str(p))"
   ]
  },
  {
   "cell_type": "markdown",
   "metadata": {},
   "source": [
    "Calculating the principal components corresponding to the two largest eigenvalues."
   ]
  },
  {
   "cell_type": "code",
   "execution_count": 13,
   "metadata": {
    "collapsed": true
   },
   "outputs": [],
   "source": [
    "principal_2D = np.matmul(data_PCA, p[:, 0:2])\n",
    "\n",
    "#Getting both axes.\n",
    "axis1 = np.array(principal_2D[:, 0].transpose())\n",
    "axis2 = np.array(principal_2D[:, 1].transpose())"
   ]
  },
  {
   "cell_type": "markdown",
   "metadata": {},
   "source": [
    "Plotting reduced dimension."
   ]
  },
  {
   "cell_type": "markdown",
   "metadata": {},
   "source": [
    "Assigning colors to different sections of data.\n",
    "* x: RED\n",
    "* y: GREEN\n",
    "* z: BLUE"
   ]
  },
  {
   "cell_type": "code",
   "execution_count": 14,
   "metadata": {},
   "outputs": [
    {
     "data": {
      "image/png": "[encoded data removed]",
      "text/plain": [
       "<matplotlib.figure.Figure at 0x236f8eba780>"
      ]
     },
     "metadata": {},
     "output_type": "display_data"
    }
   ],
   "source": [
    "#Plot\n",
    "plt.scatter(axis1, axis2, color=['red','green','blue'] , s = 3)\n",
    "plt.show()"
   ]
  }
 ],
 "metadata": {
  "kernelspec": {
   "display_name": "Python 3",
   "language": "python",
   "name": "python3"
  },
  "language_info": {
   "codemirror_mode": {
    "name": "ipython",
    "version": 3
   },
   "file_extension": ".py",
   "mimetype": "text/x-python",
   "name": "python",
   "nbconvert_exporter": "python",
   "pygments_lexer": "ipython3",
   "version": "3.6.1"
  }
 },
 "nbformat": 4,
 "nbformat_minor": 2
}
